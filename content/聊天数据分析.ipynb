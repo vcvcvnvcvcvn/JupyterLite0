{
  "metadata": {
    "language_info": {
      "codemirror_mode": {
        "name": "python",
        "version": 3
      },
      "file_extension": ".py",
      "mimetype": "text/x-python",
      "name": "python",
      "nbconvert_exporter": "python",
      "pygments_lexer": "ipython3",
      "version": "3.8"
    },
    "kernelspec": {
      "name": "python",
      "display_name": "Python (Pyodide)",
      "language": "python"
    }
  },
  "nbformat_minor": 4,
  "nbformat": 4,
  "cells": [
    {
      "cell_type": "code",
      "source": "import random\nimport pickle\nimport pandas as pd\nimport matplotlib.pyplot as plt\nimport numpy as np\nwith open('slice.pkl','rb') as f:\n    chat_slice = pickle.load(f)",
      "metadata": {
        "tags": [],
        "trusted": true
      },
      "execution_count": 5,
      "outputs": []
    },
    {
      "cell_type": "markdown",
      "source": "切片规则：\n\n如果上一条消息和这条消息时间相距30分钟以上，则切开，形成段落",
      "metadata": {}
    },
    {
      "cell_type": "markdown",
      "source": "## 数据的条数分布",
      "metadata": {}
    },
    {
      "cell_type": "code",
      "source": "chat_count = [0] * len(chat_slice)\nfor i,c in enumerate(chat_slice):\n    chat_count[i] = c.shape[0]",
      "metadata": {
        "trusted": true
      },
      "execution_count": 12,
      "outputs": []
    },
    {
      "cell_type": "markdown",
      "source": "总的段落数量：",
      "metadata": {}
    },
    {
      "cell_type": "code",
      "source": "len(chat_count)",
      "metadata": {
        "trusted": true
      },
      "execution_count": 13,
      "outputs": [
        {
          "execution_count": 13,
          "output_type": "execute_result",
          "data": {
            "text/plain": "863"
          },
          "metadata": {}
        }
      ]
    },
    {
      "cell_type": "markdown",
      "source": "段落长度的频数表（前30位）：",
      "metadata": {}
    },
    {
      "cell_type": "code",
      "source": "pd.value_counts(chat_count).head(30)",
      "metadata": {
        "trusted": true
      },
      "execution_count": 24,
      "outputs": [
        {
          "execution_count": 24,
          "output_type": "execute_result",
          "data": {
            "text/plain": "1     248\n2     142\n3      95\n4      57\n5      43\n6      29\n7      23\n9      21\n8      16\n10     14\n13     12\n14      8\n16      8\n11      8\n26      7\n15      7\n17      7\n24      6\n25      6\n12      6\n18      6\n29      5\n22      4\n27      4\n49      4\n32      3\n20      3\n54      2\n57      2\n33      2\ndtype: int64"
          },
          "metadata": {}
        }
      ]
    },
    {
      "cell_type": "markdown",
      "source": "## 查看具体某一个段落",
      "metadata": {}
    },
    {
      "cell_type": "code",
      "source": "chat_slice[72]",
      "metadata": {
        "trusted": true
      },
      "execution_count": 35,
      "outputs": [
        {
          "execution_count": 35,
          "output_type": "execute_result",
          "data": {
            "text/plain": "            dteventtime    chatcontent\n969 2023-06-19 11:09:07          11w+来\n970 2023-06-19 11:11:29          你战力低了\n971 2023-06-19 11:32:41  战力11w+想进战队的加我\n972 2023-06-19 11:38:17         有没有强来打\n973 2023-06-19 11:40:49      12 w 以上的来\n974 2023-06-19 11:42:29        想跳槽的我欢迎\n975 2023-06-19 11:51:47         跳啥跳傻子吧\n976 2023-06-19 11:52:25        什么孬子都来了\n977 2023-06-19 12:04:16          挂狗，晚秋\n978 2023-06-19 12:13:39    怎么把你踢了你不服气？",
            "text/html": "<div>\n<style scoped>\n    .dataframe tbody tr th:only-of-type {\n        vertical-align: middle;\n    }\n\n    .dataframe tbody tr th {\n        vertical-align: top;\n    }\n\n    .dataframe thead th {\n        text-align: right;\n    }\n</style>\n<table border=\"1\" class=\"dataframe\">\n  <thead>\n    <tr style=\"text-align: right;\">\n      <th></th>\n      <th>dteventtime</th>\n      <th>chatcontent</th>\n    </tr>\n  </thead>\n  <tbody>\n    <tr>\n      <th>969</th>\n      <td>2023-06-19 11:09:07</td>\n      <td>11w+来</td>\n    </tr>\n    <tr>\n      <th>970</th>\n      <td>2023-06-19 11:11:29</td>\n      <td>你战力低了</td>\n    </tr>\n    <tr>\n      <th>971</th>\n      <td>2023-06-19 11:32:41</td>\n      <td>战力11w+想进战队的加我</td>\n    </tr>\n    <tr>\n      <th>972</th>\n      <td>2023-06-19 11:38:17</td>\n      <td>有没有强来打</td>\n    </tr>\n    <tr>\n      <th>973</th>\n      <td>2023-06-19 11:40:49</td>\n      <td>12 w 以上的来</td>\n    </tr>\n    <tr>\n      <th>974</th>\n      <td>2023-06-19 11:42:29</td>\n      <td>想跳槽的我欢迎</td>\n    </tr>\n    <tr>\n      <th>975</th>\n      <td>2023-06-19 11:51:47</td>\n      <td>跳啥跳傻子吧</td>\n    </tr>\n    <tr>\n      <th>976</th>\n      <td>2023-06-19 11:52:25</td>\n      <td>什么孬子都来了</td>\n    </tr>\n    <tr>\n      <th>977</th>\n      <td>2023-06-19 12:04:16</td>\n      <td>挂狗，晚秋</td>\n    </tr>\n    <tr>\n      <th>978</th>\n      <td>2023-06-19 12:13:39</td>\n      <td>怎么把你踢了你不服气？</td>\n    </tr>\n  </tbody>\n</table>\n</div>"
          },
          "metadata": {}
        }
      ]
    },
    {
      "cell_type": "markdown",
      "source": "## 段落随机十连",
      "metadata": {}
    },
    {
      "cell_type": "code",
      "source": "for i in range(10):\n    idx = random.randint(0,len(chat_slice))\n    print('索引: ', idx)\n    display(chat_slice[idx])",
      "metadata": {
        "trusted": true
      },
      "execution_count": 40,
      "outputs": [
        {
          "name": "stdout",
          "text": "索引:  673\n",
          "output_type": "stream"
        },
        {
          "output_type": "display_data",
          "data": {
            "text/plain": "              dteventtime                chatcontent\n13014 2023-07-14 12:11:01  我这个铠都没培养，tmd，为什么最强小队一直有他呀\n13015 2023-07-14 12:31:27                          ？\n13016 2023-07-14 12:47:48                        没人吗\n13017 2023-07-14 12:49:08                      那必然是有\n13018 2023-07-14 13:05:25     带束花赴约战队收人  战力35w的家人们快来",
            "text/html": "<div>\n<style scoped>\n    .dataframe tbody tr th:only-of-type {\n        vertical-align: middle;\n    }\n\n    .dataframe tbody tr th {\n        vertical-align: top;\n    }\n\n    .dataframe thead th {\n        text-align: right;\n    }\n</style>\n<table border=\"1\" class=\"dataframe\">\n  <thead>\n    <tr style=\"text-align: right;\">\n      <th></th>\n      <th>dteventtime</th>\n      <th>chatcontent</th>\n    </tr>\n  </thead>\n  <tbody>\n    <tr>\n      <th>13014</th>\n      <td>2023-07-14 12:11:01</td>\n      <td>我这个铠都没培养，tmd，为什么最强小队一直有他呀</td>\n    </tr>\n    <tr>\n      <th>13015</th>\n      <td>2023-07-14 12:31:27</td>\n      <td>？</td>\n    </tr>\n    <tr>\n      <th>13016</th>\n      <td>2023-07-14 12:47:48</td>\n      <td>没人吗</td>\n    </tr>\n    <tr>\n      <th>13017</th>\n      <td>2023-07-14 12:49:08</td>\n      <td>那必然是有</td>\n    </tr>\n    <tr>\n      <th>13018</th>\n      <td>2023-07-14 13:05:25</td>\n      <td>带束花赴约战队收人  战力35w的家人们快来</td>\n    </tr>\n  </tbody>\n</table>\n</div>"
          },
          "metadata": {}
        },
        {
          "name": "stdout",
          "text": "索引:  602\n",
          "output_type": "stream"
        },
        {
          "output_type": "display_data",
          "data": {
            "text/plain": "              dteventtime    chatcontent\n12766 2023-07-09 14:25:29           有人吗？\n12767 2023-07-09 14:30:15              有\n12768 2023-07-09 14:50:41            鹅鹅鹅\n12769 2023-07-09 14:52:57        大乔绝版了吗？\n12770 2023-07-09 15:01:10  6 3 0 4 2 6近战\n12771 2023-07-09 15:03:56           有人嘛？\n12772 2023-07-09 15:28:25   坠落a战队收人28万申请",
            "text/html": "<div>\n<style scoped>\n    .dataframe tbody tr th:only-of-type {\n        vertical-align: middle;\n    }\n\n    .dataframe tbody tr th {\n        vertical-align: top;\n    }\n\n    .dataframe thead th {\n        text-align: right;\n    }\n</style>\n<table border=\"1\" class=\"dataframe\">\n  <thead>\n    <tr style=\"text-align: right;\">\n      <th></th>\n      <th>dteventtime</th>\n      <th>chatcontent</th>\n    </tr>\n  </thead>\n  <tbody>\n    <tr>\n      <th>12766</th>\n      <td>2023-07-09 14:25:29</td>\n      <td>有人吗？</td>\n    </tr>\n    <tr>\n      <th>12767</th>\n      <td>2023-07-09 14:30:15</td>\n      <td>有</td>\n    </tr>\n    <tr>\n      <th>12768</th>\n      <td>2023-07-09 14:50:41</td>\n      <td>鹅鹅鹅</td>\n    </tr>\n    <tr>\n      <th>12769</th>\n      <td>2023-07-09 14:52:57</td>\n      <td>大乔绝版了吗？</td>\n    </tr>\n    <tr>\n      <th>12770</th>\n      <td>2023-07-09 15:01:10</td>\n      <td>6 3 0 4 2 6近战</td>\n    </tr>\n    <tr>\n      <th>12771</th>\n      <td>2023-07-09 15:03:56</td>\n      <td>有人嘛？</td>\n    </tr>\n    <tr>\n      <th>12772</th>\n      <td>2023-07-09 15:28:25</td>\n      <td>坠落a战队收人28万申请</td>\n    </tr>\n  </tbody>\n</table>\n</div>"
          },
          "metadata": {}
        },
        {
          "name": "stdout",
          "text": "索引:  492\n",
          "output_type": "stream"
        },
        {
          "output_type": "display_data",
          "data": {
            "text/plain": "              dteventtime      chatcontent\n11658 2023-07-01 04:51:13  更没得说技能跟移动键按键都没了\n11659 2023-07-01 04:51:34       这修复到底修复了个啥",
            "text/html": "<div>\n<style scoped>\n    .dataframe tbody tr th:only-of-type {\n        vertical-align: middle;\n    }\n\n    .dataframe tbody tr th {\n        vertical-align: top;\n    }\n\n    .dataframe thead th {\n        text-align: right;\n    }\n</style>\n<table border=\"1\" class=\"dataframe\">\n  <thead>\n    <tr style=\"text-align: right;\">\n      <th></th>\n      <th>dteventtime</th>\n      <th>chatcontent</th>\n    </tr>\n  </thead>\n  <tbody>\n    <tr>\n      <th>11658</th>\n      <td>2023-07-01 04:51:13</td>\n      <td>更没得说技能跟移动键按键都没了</td>\n    </tr>\n    <tr>\n      <th>11659</th>\n      <td>2023-07-01 04:51:34</td>\n      <td>这修复到底修复了个啥</td>\n    </tr>\n  </tbody>\n</table>\n</div>"
          },
          "metadata": {}
        },
        {
          "name": "stdout",
          "text": "索引:  60\n",
          "output_type": "stream"
        },
        {
          "output_type": "display_data",
          "data": {
            "text/plain": "            dteventtime chatcontent\n775 2023-06-18 08:27:15           。",
            "text/html": "<div>\n<style scoped>\n    .dataframe tbody tr th:only-of-type {\n        vertical-align: middle;\n    }\n\n    .dataframe tbody tr th {\n        vertical-align: top;\n    }\n\n    .dataframe thead th {\n        text-align: right;\n    }\n</style>\n<table border=\"1\" class=\"dataframe\">\n  <thead>\n    <tr style=\"text-align: right;\">\n      <th></th>\n      <th>dteventtime</th>\n      <th>chatcontent</th>\n    </tr>\n  </thead>\n  <tbody>\n    <tr>\n      <th>775</th>\n      <td>2023-06-18 08:27:15</td>\n      <td>。</td>\n    </tr>\n  </tbody>\n</table>\n</div>"
          },
          "metadata": {}
        },
        {
          "name": "stdout",
          "text": "索引:  129\n",
          "output_type": "stream"
        },
        {
          "output_type": "display_data",
          "data": {
            "text/plain": "             dteventtime chatcontent\n1522 2023-06-24 10:24:31           1",
            "text/html": "<div>\n<style scoped>\n    .dataframe tbody tr th:only-of-type {\n        vertical-align: middle;\n    }\n\n    .dataframe tbody tr th {\n        vertical-align: top;\n    }\n\n    .dataframe thead th {\n        text-align: right;\n    }\n</style>\n<table border=\"1\" class=\"dataframe\">\n  <thead>\n    <tr style=\"text-align: right;\">\n      <th></th>\n      <th>dteventtime</th>\n      <th>chatcontent</th>\n    </tr>\n  </thead>\n  <tbody>\n    <tr>\n      <th>1522</th>\n      <td>2023-06-24 10:24:31</td>\n      <td>1</td>\n    </tr>\n  </tbody>\n</table>\n</div>"
          },
          "metadata": {}
        },
        {
          "name": "stdout",
          "text": "索引:  587\n",
          "output_type": "stream"
        },
        {
          "output_type": "display_data",
          "data": {
            "text/plain": "              dteventtime chatcontent\n12715 2023-07-08 18:19:23          不是",
            "text/html": "<div>\n<style scoped>\n    .dataframe tbody tr th:only-of-type {\n        vertical-align: middle;\n    }\n\n    .dataframe tbody tr th {\n        vertical-align: top;\n    }\n\n    .dataframe thead th {\n        text-align: right;\n    }\n</style>\n<table border=\"1\" class=\"dataframe\">\n  <thead>\n    <tr style=\"text-align: right;\">\n      <th></th>\n      <th>dteventtime</th>\n      <th>chatcontent</th>\n    </tr>\n  </thead>\n  <tbody>\n    <tr>\n      <th>12715</th>\n      <td>2023-07-08 18:19:23</td>\n      <td>不是</td>\n    </tr>\n  </tbody>\n</table>\n</div>"
          },
          "metadata": {}
        },
        {
          "name": "stdout",
          "text": "索引:  594\n",
          "output_type": "stream"
        },
        {
          "output_type": "display_data",
          "data": {
            "text/plain": "              dteventtime               chatcontent\n12728 2023-07-09 00:32:25                        全败\n12729 2023-07-09 00:33:38                       这这这\n12730 2023-07-09 00:39:15                         。\n12731 2023-07-09 01:07:48  貂蝉大乔李白澜，说到底只会玩个大乔，碰到就是晦气\n12732 2023-07-09 01:11:43                      啊啊啊？\n12733 2023-07-09 01:13:23               糕手溪，实名觉得他恶心\n12734 2023-07-09 01:42:23                         ？\n12735 2023-07-09 01:42:55                  说的你好像换过似\n12736 2023-07-09 01:43:18               咋的？只能玩不会的是吧",
            "text/html": "<div>\n<style scoped>\n    .dataframe tbody tr th:only-of-type {\n        vertical-align: middle;\n    }\n\n    .dataframe tbody tr th {\n        vertical-align: top;\n    }\n\n    .dataframe thead th {\n        text-align: right;\n    }\n</style>\n<table border=\"1\" class=\"dataframe\">\n  <thead>\n    <tr style=\"text-align: right;\">\n      <th></th>\n      <th>dteventtime</th>\n      <th>chatcontent</th>\n    </tr>\n  </thead>\n  <tbody>\n    <tr>\n      <th>12728</th>\n      <td>2023-07-09 00:32:25</td>\n      <td>全败</td>\n    </tr>\n    <tr>\n      <th>12729</th>\n      <td>2023-07-09 00:33:38</td>\n      <td>这这这</td>\n    </tr>\n    <tr>\n      <th>12730</th>\n      <td>2023-07-09 00:39:15</td>\n      <td>。</td>\n    </tr>\n    <tr>\n      <th>12731</th>\n      <td>2023-07-09 01:07:48</td>\n      <td>貂蝉大乔李白澜，说到底只会玩个大乔，碰到就是晦气</td>\n    </tr>\n    <tr>\n      <th>12732</th>\n      <td>2023-07-09 01:11:43</td>\n      <td>啊啊啊？</td>\n    </tr>\n    <tr>\n      <th>12733</th>\n      <td>2023-07-09 01:13:23</td>\n      <td>糕手溪，实名觉得他恶心</td>\n    </tr>\n    <tr>\n      <th>12734</th>\n      <td>2023-07-09 01:42:23</td>\n      <td>？</td>\n    </tr>\n    <tr>\n      <th>12735</th>\n      <td>2023-07-09 01:42:55</td>\n      <td>说的你好像换过似</td>\n    </tr>\n    <tr>\n      <th>12736</th>\n      <td>2023-07-09 01:43:18</td>\n      <td>咋的？只能玩不会的是吧</td>\n    </tr>\n  </tbody>\n</table>\n</div>"
          },
          "metadata": {}
        },
        {
          "name": "stdout",
          "text": "索引:  665\n",
          "output_type": "stream"
        },
        {
          "output_type": "display_data",
          "data": {
            "text/plain": "              dteventtime    chatcontent\n13002 2023-07-14 02:04:05  86级主线就一百级了真离谱",
            "text/html": "<div>\n<style scoped>\n    .dataframe tbody tr th:only-of-type {\n        vertical-align: middle;\n    }\n\n    .dataframe tbody tr th {\n        vertical-align: top;\n    }\n\n    .dataframe thead th {\n        text-align: right;\n    }\n</style>\n<table border=\"1\" class=\"dataframe\">\n  <thead>\n    <tr style=\"text-align: right;\">\n      <th></th>\n      <th>dteventtime</th>\n      <th>chatcontent</th>\n    </tr>\n  </thead>\n  <tbody>\n    <tr>\n      <th>13002</th>\n      <td>2023-07-14 02:04:05</td>\n      <td>86级主线就一百级了真离谱</td>\n    </tr>\n  </tbody>\n</table>\n</div>"
          },
          "metadata": {}
        },
        {
          "name": "stdout",
          "text": "索引:  113\n",
          "output_type": "stream"
        },
        {
          "output_type": "display_data",
          "data": {
            "text/plain": "             dteventtime chatcontent\n1411 2023-06-23 07:11:42          哈喽",
            "text/html": "<div>\n<style scoped>\n    .dataframe tbody tr th:only-of-type {\n        vertical-align: middle;\n    }\n\n    .dataframe tbody tr th {\n        vertical-align: top;\n    }\n\n    .dataframe thead th {\n        text-align: right;\n    }\n</style>\n<table border=\"1\" class=\"dataframe\">\n  <thead>\n    <tr style=\"text-align: right;\">\n      <th></th>\n      <th>dteventtime</th>\n      <th>chatcontent</th>\n    </tr>\n  </thead>\n  <tbody>\n    <tr>\n      <th>1411</th>\n      <td>2023-06-23 07:11:42</td>\n      <td>哈喽</td>\n    </tr>\n  </tbody>\n</table>\n</div>"
          },
          "metadata": {}
        },
        {
          "name": "stdout",
          "text": "索引:  513\n",
          "output_type": "stream"
        },
        {
          "output_type": "display_data",
          "data": {
            "text/plain": "              dteventtime    chatcontent\n12031 2023-07-02 19:54:56         小队战斗谁来\n12032 2023-07-02 20:04:35          有人单挑吗\n12033 2023-07-02 20:07:37             我来\n12034 2023-07-02 20:17:54         901888\n12035 2023-07-02 20:18:15         914235\n12036 2023-07-02 20:38:56  乱斗有没有一起来送三把的？\n12037 2023-07-02 20:57:01  真服了，被同一个人吃了三把\n12038 2023-07-02 21:00:55             嘿嘿\n12039 2023-07-02 21:13:31         钻石怎么刷快\n12040 2023-07-02 21:25:38            有人吗\n12041 2023-07-02 21:52:32          一起玩加我\n12042 2023-07-02 22:07:26         597206\n12043 2023-07-02 22:29:27          一起玩的！\n12044 2023-07-02 22:59:14         129351\n12045 2023-07-02 23:26:00         351597",
            "text/html": "<div>\n<style scoped>\n    .dataframe tbody tr th:only-of-type {\n        vertical-align: middle;\n    }\n\n    .dataframe tbody tr th {\n        vertical-align: top;\n    }\n\n    .dataframe thead th {\n        text-align: right;\n    }\n</style>\n<table border=\"1\" class=\"dataframe\">\n  <thead>\n    <tr style=\"text-align: right;\">\n      <th></th>\n      <th>dteventtime</th>\n      <th>chatcontent</th>\n    </tr>\n  </thead>\n  <tbody>\n    <tr>\n      <th>12031</th>\n      <td>2023-07-02 19:54:56</td>\n      <td>小队战斗谁来</td>\n    </tr>\n    <tr>\n      <th>12032</th>\n      <td>2023-07-02 20:04:35</td>\n      <td>有人单挑吗</td>\n    </tr>\n    <tr>\n      <th>12033</th>\n      <td>2023-07-02 20:07:37</td>\n      <td>我来</td>\n    </tr>\n    <tr>\n      <th>12034</th>\n      <td>2023-07-02 20:17:54</td>\n      <td>901888</td>\n    </tr>\n    <tr>\n      <th>12035</th>\n      <td>2023-07-02 20:18:15</td>\n      <td>914235</td>\n    </tr>\n    <tr>\n      <th>12036</th>\n      <td>2023-07-02 20:38:56</td>\n      <td>乱斗有没有一起来送三把的？</td>\n    </tr>\n    <tr>\n      <th>12037</th>\n      <td>2023-07-02 20:57:01</td>\n      <td>真服了，被同一个人吃了三把</td>\n    </tr>\n    <tr>\n      <th>12038</th>\n      <td>2023-07-02 21:00:55</td>\n      <td>嘿嘿</td>\n    </tr>\n    <tr>\n      <th>12039</th>\n      <td>2023-07-02 21:13:31</td>\n      <td>钻石怎么刷快</td>\n    </tr>\n    <tr>\n      <th>12040</th>\n      <td>2023-07-02 21:25:38</td>\n      <td>有人吗</td>\n    </tr>\n    <tr>\n      <th>12041</th>\n      <td>2023-07-02 21:52:32</td>\n      <td>一起玩加我</td>\n    </tr>\n    <tr>\n      <th>12042</th>\n      <td>2023-07-02 22:07:26</td>\n      <td>597206</td>\n    </tr>\n    <tr>\n      <th>12043</th>\n      <td>2023-07-02 22:29:27</td>\n      <td>一起玩的！</td>\n    </tr>\n    <tr>\n      <th>12044</th>\n      <td>2023-07-02 22:59:14</td>\n      <td>129351</td>\n    </tr>\n    <tr>\n      <th>12045</th>\n      <td>2023-07-02 23:26:00</td>\n      <td>351597</td>\n    </tr>\n  </tbody>\n</table>\n</div>"
          },
          "metadata": {}
        }
      ]
    },
    {
      "cell_type": "code",
      "source": "",
      "metadata": {},
      "execution_count": null,
      "outputs": []
    }
  ]
}